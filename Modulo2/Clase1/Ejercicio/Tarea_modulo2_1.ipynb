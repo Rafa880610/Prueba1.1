{
  "nbformat": 4,
  "nbformat_minor": 0,
  "metadata": {
    "colab": {
      "provenance": []
    },
    "kernelspec": {
      "name": "python3",
      "display_name": "Python 3"
    },
    "language_info": {
      "name": "python"
    }
  },
  "cells": [
    {
      "cell_type": "markdown",
      "source": [
        "# Filtrar numeros pares de una lista"
      ],
      "metadata": {
        "id": "K7HkmO74pTF_"
      }
    },
    {
      "cell_type": "code",
      "execution_count": 3,
      "metadata": {
        "id": "tDyfuedRpFfz"
      },
      "outputs": [],
      "source": [
        "lst = []\n",
        "\n",
        "for num in range(1, 21):\n",
        "    if num >= 1:\n",
        "        lst.append(num)"
      ]
    },
    {
      "cell_type": "code",
      "source": [
        "print (lst)"
      ],
      "metadata": {
        "colab": {
          "base_uri": "https://localhost:8080/"
        },
        "id": "o1RQU05-pcCW",
        "outputId": "1dc537ea-5b6f-4596-a52c-4164569674e2"
      },
      "execution_count": 8,
      "outputs": [
        {
          "output_type": "stream",
          "name": "stdout",
          "text": [
            "[1, 2, 3, 4, 5, 6, 7, 8, 9, 10, 11, 12, 13, 14, 15, 16, 17, 18, 19, 20]\n"
          ]
        }
      ]
    },
    {
      "cell_type": "code",
      "source": [
        "lst_pares = []\n",
        "\n",
        "for num in range(1, 21):\n",
        "    if num % 2 == 0:\n",
        "        lst_pares.append(num)"
      ],
      "metadata": {
        "id": "Iud7w4jxqKtD"
      },
      "execution_count": 6,
      "outputs": []
    },
    {
      "cell_type": "code",
      "source": [
        "print (lst_pares)"
      ],
      "metadata": {
        "colab": {
          "base_uri": "https://localhost:8080/"
        },
        "id": "bMd7YX7nqcyF",
        "outputId": "56579446-bfd6-4434-b19f-8c4febda4f7c"
      },
      "execution_count": 7,
      "outputs": [
        {
          "output_type": "stream",
          "name": "stdout",
          "text": [
            "[2, 4, 6, 8, 10, 12, 14, 16, 18, 20]\n"
          ]
        }
      ]
    },
    {
      "cell_type": "markdown",
      "source": [
        "# Contar ocurrencia en un diccionario"
      ],
      "metadata": {
        "id": "F6_7TqiNq0jl"
      }
    },
    {
      "cell_type": "code",
      "source": [
        "cocina = [\"cuchara\", \"tenedor\", \"cuchillo\", \"cafetera\", \"refrigerador\", \"licuadora\"]"
      ],
      "metadata": {
        "id": "0m6Nzgjxq5DH"
      },
      "execution_count": 9,
      "outputs": []
    },
    {
      "cell_type": "code",
      "source": [
        "cont = 1\n",
        "\n",
        "diccionario = {}\n",
        "\n",
        "for i in cocina:\n",
        "    if i:\n",
        "        diccionario[i] = cont\n",
        "        cont += 1"
      ],
      "metadata": {
        "id": "Zzx04HInr9oD"
      },
      "execution_count": 12,
      "outputs": []
    },
    {
      "cell_type": "code",
      "source": [
        "print (diccionario)"
      ],
      "metadata": {
        "colab": {
          "base_uri": "https://localhost:8080/"
        },
        "id": "2vuqQBfNtLAe",
        "outputId": "8f9e0b7e-22b2-4232-fe58-8d176e74bbe2"
      },
      "execution_count": 13,
      "outputs": [
        {
          "output_type": "stream",
          "name": "stdout",
          "text": [
            "{'cuchara': 1, 'tenedor': 2, 'cuchillo': 3, 'cafetera': 4, 'refrigerador': 5, 'licuadora': 6}\n"
          ]
        }
      ]
    }
  ]
}