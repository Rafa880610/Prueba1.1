{
  "nbformat": 4,
  "nbformat_minor": 0,
  "metadata": {
    "colab": {
      "provenance": []
    },
    "kernelspec": {
      "name": "python3",
      "display_name": "Python 3"
    },
    "language_info": {
      "name": "python"
    }
  },
  "cells": [
    {
      "cell_type": "markdown",
      "source": [
        "# **Duelo de brujos**"
      ],
      "metadata": {
        "id": "SNcw7M4Jw626"
      }
    },
    {
      "cell_type": "markdown",
      "source": [
        "## Lista"
      ],
      "metadata": {
        "id": "87ldCHvlxE14"
      }
    },
    {
      "cell_type": "code",
      "execution_count": 17,
      "metadata": {
        "id": "0B0niX_6wt6P"
      },
      "outputs": [],
      "source": [
        "Gandalf = [10, 11, 13, 30, 22, 11, 10, 33, 22, 22]\n",
        "Saruman = [23, 66, 12, 43, 12, 10, 44, 23, 12, 17]"
      ]
    },
    {
      "cell_type": "markdown",
      "source": [
        "## Variables"
      ],
      "metadata": {
        "id": "4svyGqajxdHk"
      }
    },
    {
      "cell_type": "code",
      "source": [
        "Gandalf_v = 0\n",
        "Saruman_v = 0"
      ],
      "metadata": {
        "id": "ip1YDa7UxU8r"
      },
      "execution_count": 18,
      "outputs": []
    },
    {
      "cell_type": "markdown",
      "source": [
        "## Iteración"
      ],
      "metadata": {
        "id": "zEiuP2FryNJT"
      }
    },
    {
      "cell_type": "code",
      "source": [
        "for i in range(len(Gandalf)):\n",
        "    if Gandalf[i] > Saruman[i]:\n",
        "        Gandalf_v += 1\n",
        "    elif Saruman[i] > Gandalf[i]:\n",
        "        Saruman_v += 1"
      ],
      "metadata": {
        "id": "Zp-zRha2yQJD"
      },
      "execution_count": 19,
      "outputs": []
    },
    {
      "cell_type": "code",
      "source": [
        "print (Gandalf_v)"
      ],
      "metadata": {
        "colab": {
          "base_uri": "https://localhost:8080/"
        },
        "id": "xMsjK0wR0IHa",
        "outputId": "ec8228a9-8c79-4d67-b5dc-621c1e303b97"
      },
      "execution_count": 20,
      "outputs": [
        {
          "output_type": "stream",
          "name": "stdout",
          "text": [
            "6\n"
          ]
        }
      ]
    },
    {
      "cell_type": "code",
      "source": [
        "print (Saruman_v)"
      ],
      "metadata": {
        "colab": {
          "base_uri": "https://localhost:8080/"
        },
        "id": "g-FYm8UP0MvK",
        "outputId": "39f1045f-d17f-439c-baa7-3a124eb3c425"
      },
      "execution_count": 21,
      "outputs": [
        {
          "output_type": "stream",
          "name": "stdout",
          "text": [
            "4\n"
          ]
        }
      ]
    },
    {
      "cell_type": "markdown",
      "source": [
        "## Ganador"
      ],
      "metadata": {
        "id": "Lwz1EaACzi-6"
      }
    },
    {
      "cell_type": "code",
      "source": [
        "if Gandalf_v > Saruman_v:\n",
        "    print(\"Gana Gandalf\")\n",
        "elif Saruman_v > Gandalf_v:\n",
        "    print(\"Gana Saruman\")\n",
        "else:\n",
        "    print(\"Atar\")"
      ],
      "metadata": {
        "colab": {
          "base_uri": "https://localhost:8080/"
        },
        "id": "4BVt5R14zlaP",
        "outputId": "cc0f13f5-1179-4f5f-a853-a7408055c8d7"
      },
      "execution_count": 22,
      "outputs": [
        {
          "output_type": "stream",
          "name": "stdout",
          "text": [
            "Gana Gandalf\n"
          ]
        }
      ]
    },
    {
      "cell_type": "markdown",
      "source": [
        "# BONO"
      ],
      "metadata": {
        "id": "8Db_uYye2CCP"
      }
    },
    {
      "cell_type": "markdown",
      "source": [
        "## Diccionario y lista"
      ],
      "metadata": {
        "id": "A75rdBKm2KLc"
      }
    },
    {
      "cell_type": "code",
      "source": [
        "power = {\n",
        "    'Fireball': 50,\n",
        "    'Lightning bolt': 40,\n",
        "    'Magic arrow': 10,\n",
        "    'Black Tentacles': 25,\n",
        "    'Contagion': 45\n",
        "}\n",
        "\n",
        "gandalf = ['Fireball', 'Lightning bolt', 'Lightning bolt', 'Magic arrow', 'Fireball',\n",
        "           'Magic arrow', 'Lightning bolt', 'Fireball', 'Magic arrow', 'Fireball']\n",
        "saruman = ['Contagion', 'Contagion', 'Black Tentacles', 'Fireball', 'Black Tentacles',\n",
        "           'Lightning bolt', 'Magic arrow', 'Contagion', 'Magic arrow', 'Magic arrow']"
      ],
      "metadata": {
        "id": "Hb9KKACc2HWJ"
      },
      "execution_count": 65,
      "outputs": []
    },
    {
      "cell_type": "markdown",
      "source": [
        "## listas de poder con hechizos a variables"
      ],
      "metadata": {
        "id": "i1RSrk184kL-"
      }
    },
    {
      "cell_type": "code",
      "source": [
        "gandalf_power = [power[spell] for spell in gandalf]\n",
        "saruman_power = [power[spell] for spell in saruman]"
      ],
      "metadata": {
        "id": "EuX62JFl20cZ"
      },
      "execution_count": 66,
      "outputs": []
    },
    {
      "cell_type": "code",
      "source": [
        "print (gandalf_power)"
      ],
      "metadata": {
        "colab": {
          "base_uri": "https://localhost:8080/"
        },
        "id": "hIyk5nHF4mkB",
        "outputId": "080f28ea-cee6-4d23-9208-dc1d67409d77"
      },
      "execution_count": 67,
      "outputs": [
        {
          "output_type": "stream",
          "name": "stdout",
          "text": [
            "[50, 40, 40, 10, 50, 10, 40, 50, 10, 50]\n"
          ]
        }
      ]
    },
    {
      "cell_type": "code",
      "source": [
        "print (saruman_power)"
      ],
      "metadata": {
        "colab": {
          "base_uri": "https://localhost:8080/"
        },
        "id": "SOT30DMT4qCP",
        "outputId": "10b25197-cdc5-4e02-d6df-3147b5174583"
      },
      "execution_count": 68,
      "outputs": [
        {
          "output_type": "stream",
          "name": "stdout",
          "text": [
            "[45, 45, 25, 50, 25, 40, 10, 45, 10, 10]\n"
          ]
        }
      ]
    },
    {
      "cell_type": "markdown",
      "source": [
        "## 2. Un hechicero gana si logra ganar 3 enfrentamientos de hechizos seguidos."
      ],
      "metadata": {
        "id": "AZ6kbav06igj"
      }
    },
    {
      "cell_type": "code",
      "source": [
        "gandalf_victorias = 0\n",
        "saruman_victorias = 0\n",
        "gandalf_consecutivo = 0\n",
        "saruman_consecutivo = 0\n",
        "enfrentamientos = 0"
      ],
      "metadata": {
        "id": "gjrHATZ758_m"
      },
      "execution_count": 69,
      "outputs": []
    },
    {
      "cell_type": "code",
      "source": [
        "ganador = None"
      ],
      "metadata": {
        "id": "0T51nmlQ6MTP"
      },
      "execution_count": 70,
      "outputs": []
    },
    {
      "cell_type": "markdown",
      "source": [
        "## Comprobación hechizos"
      ],
      "metadata": {
        "id": "z835NeZc67PI"
      }
    },
    {
      "cell_type": "code",
      "source": [
        "for i in range(len(gandalf_power)):\n",
        "    enfrentamientos += 1\n",
        "\n",
        "    if gandalf_power[i] > saruman_power[i]:\n",
        "        gandalf_victorias += 1\n",
        "        gandalf_consecutivo += 1\n",
        "        saruman_consecutivo = 0\n",
        "    elif saruman_power[i] > gandalf_power[i]:\n",
        "        saruman_victorias += 1\n",
        "        saruman_consecutivo += 1\n",
        "        gandalf_consecutivo = 0"
      ],
      "metadata": {
        "id": "5Kr4Eiug69tv"
      },
      "execution_count": 71,
      "outputs": []
    },
    {
      "cell_type": "code",
      "source": [
        "print (gandalf_consecutivo)"
      ],
      "metadata": {
        "colab": {
          "base_uri": "https://localhost:8080/"
        },
        "id": "dJqJemxD7yWT",
        "outputId": "8f587da4-b82e-4cd2-9bed-defb5b917b89"
      },
      "execution_count": 72,
      "outputs": [
        {
          "output_type": "stream",
          "name": "stdout",
          "text": [
            "3\n"
          ]
        }
      ]
    },
    {
      "cell_type": "code",
      "source": [
        "print (saruman_consecutivo)"
      ],
      "metadata": {
        "colab": {
          "base_uri": "https://localhost:8080/"
        },
        "id": "3DEcPfpK77pu",
        "outputId": "c48280aa-5afc-4aa4-e923-bec4e3a366ca"
      },
      "execution_count": 73,
      "outputs": [
        {
          "output_type": "stream",
          "name": "stdout",
          "text": [
            "0\n"
          ]
        }
      ]
    },
    {
      "cell_type": "code",
      "source": [
        "if winner is None:\n",
        "    if gandalf_victorias > saruman_victorias:\n",
        "        ganador = \"Gandalf gana\"\n",
        "    elif saruman_victorias > gandalf_victorias:\n",
        "        ganador = \"Saruman gana\"\n",
        "    else:\n",
        "        ganador = \"Empate\""
      ],
      "metadata": {
        "id": "og3_gslt9SSx"
      },
      "execution_count": 74,
      "outputs": []
    },
    {
      "cell_type": "markdown",
      "source": [
        "# Resultados"
      ],
      "metadata": {
        "id": "IVjYEWCU-EwU"
      }
    },
    {
      "cell_type": "code",
      "source": [
        "print(\"Total de enfrentamientos:\", enfrentamientos)\n",
        "print(\"Victorias de Gandalf:\", gandalf_victorias)\n",
        "print(\"Victorias de Saruman:\", saruman_victorias)\n",
        "print(ganador)"
      ],
      "metadata": {
        "colab": {
          "base_uri": "https://localhost:8080/"
        },
        "id": "-eU4Dn5o9tQI",
        "outputId": "703f9ebe-1c0f-4044-b186-18bad0435c0b"
      },
      "execution_count": 75,
      "outputs": [
        {
          "output_type": "stream",
          "name": "stdout",
          "text": [
            "Total de enfrentamientos: 10\n",
            "Victorias de Gandalf: 6\n",
            "Victorias de Saruman: 3\n",
            "Gandalf gana\n"
          ]
        }
      ]
    },
    {
      "cell_type": "markdown",
      "source": [
        "## 3. Promedio de cada una de las listas de hechizos."
      ],
      "metadata": {
        "id": "phOn7340-gA5"
      }
    },
    {
      "cell_type": "code",
      "source": [
        "gandalf_promedio = sum(gandalf_power) / len(gandalf_power)\n",
        "saruman_promedio = sum(saruman_power) / len(saruman_power)"
      ],
      "metadata": {
        "id": "RD4hb4WI-i8v"
      },
      "execution_count": 76,
      "outputs": []
    },
    {
      "cell_type": "code",
      "source": [
        "print (gandalf_promedio)"
      ],
      "metadata": {
        "colab": {
          "base_uri": "https://localhost:8080/"
        },
        "id": "1urhxkYv-ycb",
        "outputId": "2a71202a-6754-4568-9d83-c96419af2bc1"
      },
      "execution_count": 77,
      "outputs": [
        {
          "output_type": "stream",
          "name": "stdout",
          "text": [
            "35.0\n"
          ]
        }
      ]
    },
    {
      "cell_type": "code",
      "source": [
        "print (saruman_promedio)"
      ],
      "metadata": {
        "colab": {
          "base_uri": "https://localhost:8080/"
        },
        "id": "loVLtO26-5Do",
        "outputId": "9856a106-5d01-475d-9746-49fa432065a6"
      },
      "execution_count": 78,
      "outputs": [
        {
          "output_type": "stream",
          "name": "stdout",
          "text": [
            "30.5\n"
          ]
        }
      ]
    },
    {
      "cell_type": "markdown",
      "source": [
        "\n",
        "# **Apocalipsis zombie**"
      ],
      "metadata": {
        "id": "5A_lOejPAyxq"
      }
    },
    {
      "cell_type": "markdown",
      "source": [
        "## Lista y diccionario caso 0"
      ],
      "metadata": {
        "id": "lHqfOXL2Burz"
      }
    },
    {
      "cell_type": "code",
      "source": [
        "armas = ['pistola','escopeta']\n",
        "\n",
        "cargadores = {\n",
        "    'pistola': [10, 10],\n",
        "    'escopeta': [2, 2, 2, 2, 2]\n",
        "}"
      ],
      "metadata": {
        "id": "H0sSkHMsByFl"
      },
      "execution_count": 79,
      "outputs": []
    },
    {
      "cell_type": "code",
      "source": [
        "balas = 0"
      ],
      "metadata": {
        "id": "sB5H1tkFCCna"
      },
      "execution_count": 80,
      "outputs": []
    },
    {
      "cell_type": "markdown",
      "source": [
        "## Iteración"
      ],
      "metadata": {
        "id": "e1_PmW0ICSFy"
      }
    },
    {
      "cell_type": "code",
      "source": [
        "for arma in armas:\n",
        "    if arma in cargadores:\n",
        "        balas += sum(cargadores[arma])"
      ],
      "metadata": {
        "id": "n_wknzDyCZI8"
      },
      "execution_count": 81,
      "outputs": []
    },
    {
      "cell_type": "markdown",
      "source": [
        "## Resultado"
      ],
      "metadata": {
        "id": "Vu5IXj6yCppI"
      }
    },
    {
      "cell_type": "code",
      "source": [
        "print(f\"Puedes matar a {balas} zombies antes de quedarte sin balas.\")"
      ],
      "metadata": {
        "colab": {
          "base_uri": "https://localhost:8080/"
        },
        "id": "RilxDApiCl2p",
        "outputId": "efe50279-8110-4f56-cf82-62ad1143202e"
      },
      "execution_count": 82,
      "outputs": [
        {
          "output_type": "stream",
          "name": "stdout",
          "text": [
            "Puedes matar a 30 zombies antes de quedarte sin balas.\n"
          ]
        }
      ]
    },
    {
      "cell_type": "markdown",
      "source": [
        "## Lista y diccionario caso 1"
      ],
      "metadata": {
        "id": "ND6jwCC8DFta"
      }
    },
    {
      "cell_type": "code",
      "source": [
        "armas = ['pistola', 'ametralladora', 'escopeta', 'fusil de francotirador']\n",
        "\n",
        "cargadores = {\n",
        "    'pistola': [12, 13, 4, 5, 20, 17],\n",
        "    'ametralladora': [33, 40],\n",
        "    'escopeta': [2, 2, 2, 1],\n",
        "    'fusil de francotirador': [1, 2, 4]\n",
        "}"
      ],
      "metadata": {
        "id": "PtCtIwOCDKE_"
      },
      "execution_count": 83,
      "outputs": []
    },
    {
      "cell_type": "code",
      "source": [
        "balas = 0"
      ],
      "metadata": {
        "id": "w-FJCrcNDYUb"
      },
      "execution_count": 84,
      "outputs": []
    },
    {
      "cell_type": "markdown",
      "source": [
        "# Iteración"
      ],
      "metadata": {
        "id": "H4ZR8gB5DVkR"
      }
    },
    {
      "cell_type": "code",
      "source": [
        "for arma in armas:\n",
        "    if arma in cargadores:\n",
        "        balas += sum(cargadores[arma])"
      ],
      "metadata": {
        "id": "-HZN6W2pDbZG"
      },
      "execution_count": 85,
      "outputs": []
    },
    {
      "cell_type": "markdown",
      "source": [
        "# Resultado"
      ],
      "metadata": {
        "id": "neBrDjM5Dnkh"
      }
    },
    {
      "cell_type": "code",
      "source": [
        "print(f\"Puedes matar a {balas} zombies antes de quedarte sin balas.\")"
      ],
      "metadata": {
        "colab": {
          "base_uri": "https://localhost:8080/"
        },
        "id": "sgova--9DdF8",
        "outputId": "49c14a12-f500-4265-a6d0-ddc0aa41d016"
      },
      "execution_count": 86,
      "outputs": [
        {
          "output_type": "stream",
          "name": "stdout",
          "text": [
            "Puedes matar a 158 zombies antes de quedarte sin balas.\n"
          ]
        }
      ]
    },
    {
      "cell_type": "code",
      "source": [],
      "metadata": {
        "id": "DfNyuNviDpla"
      },
      "execution_count": null,
      "outputs": []
    },
    {
      "cell_type": "markdown",
      "source": [
        "## Lista y diccionario caso 2"
      ],
      "metadata": {
        "id": "15pnxqMQEFMv"
      }
    },
    {
      "cell_type": "code",
      "source": [
        "armas = ['pistola', 'ametralladora', 'escopeta', 'fusil de francotirador']\n",
        "\n",
        "cargadores = {\n",
        "    'pistola': [12, 13, 4, 5, 20, 17],\n",
        "    'ametralladora': [33, 40],\n",
        "    'escopeta': [2, 2, 2, 1],\n",
        "    'fusil de francotirador': [1, 2, 4],\n",
        "    'bazoka': [1, 1]\n",
        "}"
      ],
      "metadata": {
        "id": "pMzmN3kcEMJH"
      },
      "execution_count": 108,
      "outputs": []
    },
    {
      "cell_type": "code",
      "source": [
        "balas = 0"
      ],
      "metadata": {
        "id": "Eul-aocEEXW9"
      },
      "execution_count": 109,
      "outputs": []
    },
    {
      "cell_type": "markdown",
      "source": [
        "## Iteración"
      ],
      "metadata": {
        "id": "K94PJCrUEbkm"
      }
    },
    {
      "cell_type": "code",
      "source": [
        "for arma in armas:\n",
        "    if arma in cargadores:\n",
        "        balas += sum(cargadores[arma])\n",
        ""
      ],
      "metadata": {
        "id": "exoYgs7wEZuI"
      },
      "execution_count": 110,
      "outputs": []
    },
    {
      "cell_type": "markdown",
      "source": [
        "## Resultado"
      ],
      "metadata": {
        "id": "h99hU_Z6EneU"
      }
    },
    {
      "cell_type": "code",
      "source": [
        "print(f\"Puedes matar a {balas} zombies antes de quedarte sin balas.\")"
      ],
      "metadata": {
        "colab": {
          "base_uri": "https://localhost:8080/"
        },
        "id": "6m8u9JsUEpvK",
        "outputId": "25fc9b33-9e2d-46d4-e171-7a672813b714"
      },
      "execution_count": 111,
      "outputs": [
        {
          "output_type": "stream",
          "name": "stdout",
          "text": [
            "Puedes matar a 158 zombies antes de quedarte sin balas.\n"
          ]
        }
      ]
    },
    {
      "cell_type": "markdown",
      "source": [
        "## Lista y diccionario caso 3"
      ],
      "metadata": {
        "id": "S-OdfXyEE-Sb"
      }
    },
    {
      "cell_type": "code",
      "source": [
        "armas = ['pistola', 'ametralladora', 'escopeta', 'fusil de francotirador']\n",
        "\n",
        "cargadores = {\n",
        "    'pistola': [12, 13, 4, 5, 20, 17],\n",
        "    'ametralladora': [33, 40],\n",
        "    'escopeta': [2, 2, 2, 1]\n",
        "}"
      ],
      "metadata": {
        "id": "N2ef8pmcFBKC"
      },
      "execution_count": 112,
      "outputs": []
    },
    {
      "cell_type": "code",
      "source": [
        "balas = 0"
      ],
      "metadata": {
        "id": "e5KqO3esFCmh"
      },
      "execution_count": 113,
      "outputs": []
    },
    {
      "cell_type": "markdown",
      "source": [
        "## Iteración"
      ],
      "metadata": {
        "id": "lqQOEs4DFImf"
      }
    },
    {
      "cell_type": "code",
      "source": [
        "for arma in armas:\n",
        "    if arma in cargadores:\n",
        "        balas += sum(cargadores[arma])"
      ],
      "metadata": {
        "id": "obKOdqwdFGyW"
      },
      "execution_count": 114,
      "outputs": []
    },
    {
      "cell_type": "markdown",
      "source": [
        "## Resultado"
      ],
      "metadata": {
        "id": "m2iyVuOTF3Yf"
      }
    },
    {
      "cell_type": "code",
      "source": [
        "print(f\"Puedes matar a {balas} zombies antes de quedarte sin balas.\")"
      ],
      "metadata": {
        "colab": {
          "base_uri": "https://localhost:8080/"
        },
        "id": "p3AHIlaCF2xj",
        "outputId": "7b3f492c-6061-4b37-a2e6-7dcf13d410c7"
      },
      "execution_count": 115,
      "outputs": [
        {
          "output_type": "stream",
          "name": "stdout",
          "text": [
            "Puedes matar a 151 zombies antes de quedarte sin balas.\n"
          ]
        }
      ]
    }
  ]
}